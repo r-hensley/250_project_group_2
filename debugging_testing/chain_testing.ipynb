{
 "cells": [
  {
   "cell_type": "code",
   "execution_count": null,
   "outputs": [],
   "source": [
    "import os\n",
    "import matplotlib.pyplot as plt\n",
    "import matplotlib\n",
    "import numpy as np\n",
    "basedir = os.path.dirname(os.path.abspath(''))\n",
    "sourcedir = os.path.join(basedir, 'source')\n",
    "import sys\n",
    "sys.path.insert(0, sourcedir)\n",
    "from mcmc import MCMC\n",
    "\n",
    "%config InlineBackend.figure_format = 'retina'\n",
    "font = {'size'   : 16, 'family':'STIXGeneral'}\n",
    "axislabelfontsize='large'\n",
    "matplotlib.rc('font', **font)\n",
    "matplotlib.mathtext.rcParams['legend.fontsize']='medium'\n",
    "plt.rcParams[\"figure.figsize\"] = [8.0,6.0]\n",
    "\n",
    "datadir = os.path.join(basedir, 'data')\n",
    "\n",
    "binned_data_file = os.path.join(datadir, 'lcparam_DS17f.txt')\n",
    "binned_sys_file = os.path.join(datadir, 'sys_DS17f.txt')\n",
    "\n",
    "    # The for loop is to allow for the option of plotting multiple chains on the same chart\n",
    "    # (It just kinda looks cool)\n",
    "print(f\"Starting Markov Chain\")\n",
    "start = [np.random.uniform(0, 1), np.random.uniform(0,1), np.random.uniform(50,100), np.random.uniform(-25, -15)]\n",
    "    #start = [.25, .74, 68]\n",
    "g_cov_test = np.diag([.01, .01, .1, .01])\n",
    "markov_chain = MCMC(initial_state=start,\n",
    "                    data_file=binned_data_file,\n",
    "                    systematics_file=binned_sys_file, \n",
    "                    g_cov=g_cov_test)\n",
    "\n",
    "markov_chain.make_chain(10000)\n",
    "\n",
    "print(markov_chain.chain)"
   ],
   "metadata": {
    "collapsed": false,
    "pycharm": {
     "name": "#%%\n"
    }
   }
  },
  {
   "cell_type": "code",
   "execution_count": null,
   "outputs": [],
   "source": [
    "fig, ax = plt.subplots(4,1)\n",
    "\n",
    "ax[0].plot(markov_chain.Omega_m)\n",
    "ax[1].plot(markov_chain.Omega_L)\n",
    "ax[2].plot(markov_chain.H0)\n",
    "ax[3].plot(markov_chain.M)\n",
    "plt.show()"
   ],
   "metadata": {
    "collapsed": false,
    "pycharm": {
     "name": "#%%\n"
    }
   }
  },
  {
   "cell_type": "code",
   "execution_count": null,
   "outputs": [],
   "source": [
    "x = markov_chain.chain\n",
    "print(x, type(x))\n",
    "print(x.T, type(x.T))\n",
    "cov = np.cov(markov_chain.chain.T)\n",
    "alpha= .1\n",
    "cov*=alpha\n",
    "print(cov)"
   ],
   "metadata": {
    "collapsed": false,
    "pycharm": {
     "name": "#%%\n"
    }
   }
  },
  {
   "cell_type": "code",
   "execution_count": null,
   "outputs": [],
   "source": [
    "start = [np.random.uniform(0, 1), np.random.uniform(0,1), np.random.uniform(50,100), np.random.uniform(-25, -15)]\n",
    "    #start = [.25, .74, 68]\n",
    "markov_chain2 = MCMC(initial_state=start,\n",
    "                    data_file=binned_data_file,\n",
    "                    systematics_file=binned_sys_file, \n",
    "                    g_cov=cov)\n",
    "\n",
    "markov_chain2.make_chain(10000)"
   ],
   "metadata": {
    "collapsed": false,
    "pycharm": {
     "name": "#%%\n"
    }
   }
  },
  {
   "cell_type": "code",
   "execution_count": null,
   "outputs": [],
   "source": [
    "fig, ax = plt.subplots(4,1)\n",
    "ax[0].plot(markov_chain.Omega_m)\n",
    "ax[1].plot(markov_chain.Omega_L)\n",
    "ax[2].plot(markov_chain.H0)\n",
    "ax[3].plot(markov_chain.M)\n",
    "plt.show()"
   ],
   "metadata": {
    "collapsed": false,
    "pycharm": {
     "name": "#%%\n"
    }
   }
  },
  {
   "cell_type": "code",
   "execution_count": null,
   "outputs": [],
   "source": [
    "plt.hist2d(markov_chain2.chain[500:,0], markov_chain2.chain[500:,1], bins=(50, 50), cmap=plt.cm.jet)\n",
    "plt.show()"
   ],
   "metadata": {
    "collapsed": false,
    "pycharm": {
     "name": "#%%\n"
    }
   }
  },
  {
   "cell_type": "code",
   "execution_count": 6,
   "metadata": {
    "pycharm": {
     "name": "#%%\n"
    }
   },
   "outputs": [],
   "source": []
  }
 ],
 "metadata": {
  "interpreter": {
   "hash": "e0c5b978c6ba067c906c4fe26fe727be8743402b355b3471fd6e87476592d160"
  },
  "kernelspec": {
   "display_name": "Python 3.9.9 ('classy-forge')",
   "language": "python",
   "name": "python3"
  },
  "language_info": {
   "codemirror_mode": {
    "name": "ipython",
    "version": 3
   },
   "file_extension": ".py",
   "mimetype": "text/x-python",
   "name": "python",
   "nbconvert_exporter": "python",
   "pygments_lexer": "ipython3",
   "version": "3.9.9"
  },
  "orig_nbformat": 4
 },
 "nbformat": 4,
 "nbformat_minor": 2
}