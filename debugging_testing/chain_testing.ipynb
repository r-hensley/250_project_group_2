{
 "cells": [
  {
   "cell_type": "code",
   "execution_count": 3,
   "outputs": [
    {
     "name": "stderr",
     "output_type": "stream",
     "text": [
      "..\n",
      "----------------------------------------------------------------------\n",
      "Ran 2 tests in 0.437s\n",
      "\n",
      "OK\n"
     ]
    }
   ],
   "source": [
    "import unittest\n",
    "\n",
    "if __name__ == \"__main__\":\n",
    "    loader = unittest.TestLoader()\n",
    "    start_dir = \"../tests\"\n",
    "    suite = loader.discover(start_dir)\n",
    "    runner = unittest.TextTestRunner()\n",
    "    runner.run(suite)"
   ],
   "metadata": {
    "collapsed": false,
    "pycharm": {
     "name": "#%%\n"
    }
   }
  },
  {
   "cell_type": "code",
   "execution_count": 1,
   "outputs": [
    {
     "name": "stdout",
     "output_type": "stream",
     "text": [
      "starting tests\n"
     ]
    },
    {
     "name": "stderr",
     "output_type": "stream",
     "text": [
      "E\n",
      "======================================================================\n",
      "ERROR: test_compare_cosmomodel_vs_astropy (unittest.loader._FailedTest)\n",
      "----------------------------------------------------------------------\n",
      "ImportError: Failed to import test module: test_compare_cosmomodel_vs_astropy\n",
      "Traceback (most recent call last):\n",
      "  File \"/usr/lib/python3.8/unittest/loader.py\", line 436, in _find_test_path\n",
      "    module = self._get_module_from_name(name)\n",
      "  File \"/usr/lib/python3.8/unittest/loader.py\", line 377, in _get_module_from_name\n",
      "    __import__(name)\n",
      "  File \"/home/rhensley/Documents/classes/phys_250/250_project_group_2/unittests/test_compare_cosmomodel_vs_astropy.py\", line 12, in <module>\n",
      "    CosmoModel = cm.CosmoModel\n",
      "AttributeError: partially initialized module 'source.cosmo_model' has no attribute 'CosmoModel' (most likely due to a circular import)\n",
      "\n",
      "\n",
      "----------------------------------------------------------------------\n",
      "Ran 1 test in 0.001s\n",
      "\n",
      "FAILED (errors=1)\n"
     ]
    },
    {
     "name": "stdout",
     "output_type": "stream",
     "text": [
      "Starting Markov Chain\n",
      "[[  0.7359582    0.62728516  64.65902696 -18.1660676 ]\n",
      " [  0.64267028   0.54288953  64.50919372 -18.0462853 ]\n",
      " [  0.68134961   0.79865898  64.57775405 -18.21424404]\n",
      " ...\n",
      " [  0.36640343   0.65156853  67.24549531 -19.51849292]\n",
      " [  0.225956     0.57142307  67.52280018 -19.56586922]\n",
      " [  0.19084447   0.76252775  67.86453188 -19.5925964 ]]\n"
     ]
    }
   ],
   "source": [
    "import os\n",
    "import matplotlib.pyplot as plt\n",
    "import matplotlib\n",
    "import numpy as np\n",
    "basedir = os.path.dirname(os.path.abspath(''))\n",
    "sourcedir = os.path.join(basedir, 'source')\n",
    "import sys\n",
    "sys.path.insert(0, sourcedir)\n",
    "from source.mcmc import MCMC\n",
    "\n",
    "%config InlineBackend.figure_format = 'retina'\n",
    "font = {'size'   : 16, 'family':'STIXGeneral'}\n",
    "axislabelfontsize='large'\n",
    "matplotlib.rc('font', **font)\n",
    "matplotlib.mathtext.rcParams['legend.fontsize']='medium'\n",
    "plt.rcParams[\"figure.figsize\"] = [8.0,6.0]\n",
    "\n",
    "datadir = os.path.join(basedir, 'data')\n",
    "\n",
    "binned_data_file = os.path.join(datadir, 'lcparam_DS17f.txt')\n",
    "binned_sys_file = os.path.join(datadir, 'sys_DS17f.txt')\n",
    "\n",
    "    # The for loop is to allow for the option of plotting multiple chains on the same chart\n",
    "    # (It just kinda looks cool)\n",
    "print(f\"Starting Markov Chain\")\n",
    "start = [np.random.uniform(0, 1), np.random.uniform(0,1), np.random.uniform(50,100), np.random.uniform(-25, -15)]\n",
    "    #start = [.25, .74, 68]\n",
    "g_cov_test = np.diag([.01, .01, .1, .01])\n",
    "markov_chain = MCMC(initial_state=start,\n",
    "                    data_file=binned_data_file,\n",
    "                    systematics_file=binned_sys_file,\n",
    "                    g_cov=g_cov_test)\n",
    "\n",
    "markov_chain.make_chain(1000)\n",
    "\n",
    "print(markov_chain.chain)"
   ],
   "metadata": {
    "collapsed": false,
    "pycharm": {
     "name": "#%%\n"
    }
   }
  },
  {
   "cell_type": "code",
   "execution_count": 1,
   "outputs": [
    {
     "ename": "NameError",
     "evalue": "name 'plt' is not defined",
     "output_type": "error",
     "traceback": [
      "\u001B[0;31m---------------------------------------------------------------------------\u001B[0m",
      "\u001B[0;31mNameError\u001B[0m                                 Traceback (most recent call last)",
      "Input \u001B[0;32mIn [1]\u001B[0m, in \u001B[0;36m<cell line: 1>\u001B[0;34m()\u001B[0m\n\u001B[0;32m----> 1\u001B[0m fig, ax \u001B[38;5;241m=\u001B[39m \u001B[43mplt\u001B[49m\u001B[38;5;241m.\u001B[39msubplots(\u001B[38;5;241m4\u001B[39m,\u001B[38;5;241m1\u001B[39m)\n\u001B[1;32m      3\u001B[0m ax[\u001B[38;5;241m0\u001B[39m]\u001B[38;5;241m.\u001B[39mplot(markov_chain\u001B[38;5;241m.\u001B[39mOmega_m)\n\u001B[1;32m      4\u001B[0m ax[\u001B[38;5;241m1\u001B[39m]\u001B[38;5;241m.\u001B[39mplot(markov_chain\u001B[38;5;241m.\u001B[39mOmega_L)\n",
      "\u001B[0;31mNameError\u001B[0m: name 'plt' is not defined"
     ]
    }
   ],
   "source": [
    "fig, ax = plt.subplots(4,1)\n",
    "\n",
    "ax[0].plot(markov_chain.Omega_m)\n",
    "ax[1].plot(markov_chain.Omega_L)\n",
    "ax[2].plot(markov_chain.H0)\n",
    "ax[3].plot(markov_chain.M)\n",
    "plt.show()"
   ],
   "metadata": {
    "collapsed": false,
    "pycharm": {
     "name": "#%%\n"
    }
   }
  },
  {
   "cell_type": "code",
   "execution_count": null,
   "outputs": [],
   "source": [
    "x = markov_chain.chain\n",
    "print(x, type(x))\n",
    "print(x.T, type(x.T))\n",
    "cov = np.cov(markov_chain.chain.T)\n",
    "alpha= .1\n",
    "cov*=alpha\n",
    "print(cov)"
   ],
   "metadata": {
    "collapsed": false,
    "pycharm": {
     "name": "#%%\n"
    }
   }
  },
  {
   "cell_type": "code",
   "execution_count": null,
   "outputs": [
    {
     "name": "stdout",
     "output_type": "stream",
     "text": [
      "Unexpected exception formatting exception. Falling back to standard exception\n"
     ]
    },
    {
     "name": "stderr",
     "output_type": "stream",
     "text": [
      "Traceback (most recent call last):\n",
      "  File \"/usr/local/lib/python3.8/dist-packages/IPython/core/interactiveshell.py\", line 3369, in run_code\n",
      "    exec(code_obj, self.user_global_ns, self.user_ns)\n",
      "  File \"/tmp/ipykernel_40586/2006045694.py\", line 8, in <cell line: 8>\n",
      "    markov_chain2.make_chain(10000)\n",
      "  File \"/home/rhensley/Documents/classes/phys_250/250_project_group_2/source/mcmc.py\", line 166, in make_chain\n",
      "    self.propagate_chain()\n",
      "  File \"/home/rhensley/Documents/classes/phys_250/250_project_group_2/source/mcmc.py\", line 151, in propagate_chain\n",
      "    acceptance_prob, new_log_likelihood = self.generate_acceptance_prob(self._current_state, candidate_state)\n",
      "  File \"/home/rhensley/Documents/classes/phys_250/250_project_group_2/source/mcmc.py\", line 137, in generate_acceptance_prob\n",
      "    new_log_likelihood = self.log_likelihood(candidate_state)\n",
      "  File \"/home/rhensley/Documents/classes/phys_250/250_project_group_2/source/mcmc.py\", line 67, in log_likelihood\n",
      "    mu_vector = (self._mb - params[3]) - cosmo.distmod(self._zcmb)   # difference of our_data - model_prediction\n",
      "  File \"/home/rhensley/Documents/classes/phys_250/250_project_group_2/source/CosmoModel.py\", line 93, in distmod\n",
      "  File \"/home/rhensley/Documents/classes/phys_250/250_project_group_2/source/CosmoModel.py\", line 62, in dL\n",
      "  File \"/home/rhensley/Documents/classes/phys_250/250_project_group_2/source/CosmoModel.py\", line 48, in comoving\n",
      "  File \"/home/rhensley/.local/lib/python3.8/site-packages/scipy/integrate/_quadpack_py.py\", line 351, in quad\n",
      "    retval = _quad(func, a, b, args, full_output, epsabs, epsrel, limit,\n",
      "  File \"/home/rhensley/.local/lib/python3.8/site-packages/scipy/integrate/_quadpack_py.py\", line 463, in _quad\n",
      "    return _quadpack._qagse(func,a,b,args,full_output,epsabs,epsrel,limit)\n",
      "  File \"/home/rhensley/Documents/classes/phys_250/250_project_group_2/source/CosmoModel.py\", line 44, in integrand\n",
      "    self._Omega_m = Omega_m\n",
      "KeyboardInterrupt\n",
      "\n",
      "During handling of the above exception, another exception occurred:\n",
      "\n",
      "Traceback (most recent call last):\n",
      "  File \"/usr/local/lib/python3.8/dist-packages/IPython/core/interactiveshell.py\", line 1982, in showtraceback\n",
      "    stb = self.InteractiveTB.structured_traceback(\n",
      "  File \"/usr/local/lib/python3.8/dist-packages/IPython/core/ultratb.py\", line 1118, in structured_traceback\n",
      "    return FormattedTB.structured_traceback(\n",
      "  File \"/usr/local/lib/python3.8/dist-packages/IPython/core/ultratb.py\", line 1012, in structured_traceback\n",
      "    return VerboseTB.structured_traceback(\n",
      "  File \"/usr/local/lib/python3.8/dist-packages/IPython/core/ultratb.py\", line 865, in structured_traceback\n",
      "    formatted_exception = self.format_exception_as_a_whole(etype, evalue, etb, number_of_lines_of_context,\n",
      "  File \"/usr/local/lib/python3.8/dist-packages/IPython/core/ultratb.py\", line 818, in format_exception_as_a_whole\n",
      "    frames.append(self.format_record(r))\n",
      "  File \"/usr/local/lib/python3.8/dist-packages/IPython/core/ultratb.py\", line 736, in format_record\n",
      "    result += ''.join(_format_traceback_lines(frame_info.lines, Colors, self.has_colors, lvals))\n",
      "  File \"/usr/local/lib/python3.8/dist-packages/stack_data/utils.py\", line 145, in cached_property_wrapper\n",
      "    value = obj.__dict__[self.func.__name__] = self.func(obj)\n",
      "  File \"/usr/local/lib/python3.8/dist-packages/stack_data/core.py\", line 698, in lines\n",
      "    pieces = self.included_pieces\n",
      "  File \"/usr/local/lib/python3.8/dist-packages/stack_data/utils.py\", line 145, in cached_property_wrapper\n",
      "    value = obj.__dict__[self.func.__name__] = self.func(obj)\n",
      "  File \"/usr/local/lib/python3.8/dist-packages/stack_data/core.py\", line 649, in included_pieces\n",
      "    pos = scope_pieces.index(self.executing_piece)\n",
      "  File \"/usr/local/lib/python3.8/dist-packages/stack_data/utils.py\", line 145, in cached_property_wrapper\n",
      "    value = obj.__dict__[self.func.__name__] = self.func(obj)\n",
      "  File \"/usr/local/lib/python3.8/dist-packages/stack_data/core.py\", line 628, in executing_piece\n",
      "    return only(\n",
      "  File \"/usr/local/lib/python3.8/dist-packages/executing/executing.py\", line 164, in only\n",
      "    raise NotOneValueFound('Expected one value, found 0')\n",
      "executing.executing.NotOneValueFound: Expected one value, found 0\n"
     ]
    }
   ],
   "source": [
    "start = [np.random.uniform(0, 1), np.random.uniform(0,1), np.random.uniform(50,100), np.random.uniform(-25, -15)]\n",
    "    #start = [.25, .74, 68]\n",
    "markov_chain2 = MCMC(initial_state=start,\n",
    "                    data_file=binned_data_file,\n",
    "                    systematics_file=binned_sys_file, \n",
    "                    g_cov=cov)\n",
    "\n",
    "markov_chain2.make_chain(10000)"
   ],
   "metadata": {
    "collapsed": false,
    "pycharm": {
     "name": "#%%\n"
    }
   }
  },
  {
   "cell_type": "code",
   "execution_count": null,
   "outputs": [],
   "source": [
    "fig, ax = plt.subplots(4,1)\n",
    "ax[0].plot(markov_chain.Omega_m)\n",
    "ax[1].plot(markov_chain.Omega_L)\n",
    "ax[2].plot(markov_chain.H0)\n",
    "ax[3].plot(markov_chain.M)\n",
    "plt.show()"
   ],
   "metadata": {
    "collapsed": false,
    "pycharm": {
     "name": "#%%\n"
    }
   }
  },
  {
   "cell_type": "code",
   "execution_count": null,
   "outputs": [],
   "source": [
    "plt.hist2d(markov_chain2.chain[500:,0], markov_chain2.chain[500:,1], bins=(50, 50), cmap=plt.cm.jet)\n",
    "plt.show()"
   ],
   "metadata": {
    "collapsed": false,
    "pycharm": {
     "name": "#%%\n"
    }
   }
  },
  {
   "cell_type": "code",
   "execution_count": null,
   "metadata": {
    "pycharm": {
     "name": "#%%\n"
    }
   },
   "outputs": [],
   "source": []
  }
 ],
 "metadata": {
  "interpreter": {
   "hash": "e0c5b978c6ba067c906c4fe26fe727be8743402b355b3471fd6e87476592d160"
  },
  "kernelspec": {
   "display_name": "Python 3.9.9 ('classy-forge')",
   "language": "python",
   "name": "python3"
  },
  "language_info": {
   "codemirror_mode": {
    "name": "ipython",
    "version": 3
   },
   "file_extension": ".py",
   "mimetype": "text/x-python",
   "name": "python",
   "nbconvert_exporter": "python",
   "pygments_lexer": "ipython3",
   "version": "3.9.9"
  },
  "orig_nbformat": 4
 },
 "nbformat": 4,
 "nbformat_minor": 2
}