{
 "cells": [
  {
   "cell_type": "markdown",
   "source": [
    "\n",
    "Start by pulling data out of binned data file and assigning it to numpy arrays\n",
    "\n",
    "The data has the following columns:\n",
    "```\n",
    "name: name of the SN\n",
    "zcmb: CMB frame redshift (including peculiar velocity corrections for\n",
    "      nearby supernova based on the models of M.J. Hudson)\n",
    "zhel: Heliocentric redshift (note both zcmb and zhel are needed\n",
    "      to compute the luminosity distance)\n",
    "dz: redshift error (no longer used by the plugin)\n",
    "mb: B band peak magnitude\n",
    "dmb: Error in mb (includes contributions from intrinsic dispersion,\n",
    "     lensing, and redshift uncertainty)\n",
    "```\n",
    "The data is as follows:\n",
    "```\n",
    "#name zcmb zhel dz mb dmb\n",
    "# ... (not used) x1 dx1 color dcolor 3rdvar d3rdvar cov_m_s cov_m_c cov_s_c set ra dec biascor\n",
    "00 0.0140 0.0140 0.0 14.5700192600 0.03110 0 0 0 0 0 0 0 0 0 0 0 0\n",
    "01 0.0194 0.0194 0.0 15.2279603507 0.02645 0 0 0 0 0 0 0 0 0 0 0 0\n",
    "02 0.0264 0.0264 0.0 15.9341023170 0.02310 0 0 0 0 0 0 0 0 0 0 0 0\n",
    "03 0.0329 0.0329 0.0 16.4217829558 0.02350 0 0 0 0 0 0 0 0 0 0 0 0\n",
    "04 0.0396 0.0396 0.0 16.8364189560 0.02845 0 0 0 0 0 0 0 0 0 0 0 0\n",
    "05 0.0475 0.0475 0.0 17.2346439906 0.03340 0 0 0 0 0 0 0 0 0 0 0 0\n",
    "06 0.0560 0.0560 0.0 17.5758459622 0.03215 0 0 0 0 0 0 0 0 0 0 0 0\n",
    "07 0.0640 0.0640 0.0 17.9104543501 0.04390 0 0 0 0 0 0 0 0 0 0 0 0\n",
    "08 0.0721 0.0721 0.0 18.1780074589 0.03865 0 0 0 0 0 0 0 0 0 0 0 0\n",
    "09 0.0811 0.0811 0.0 18.5543855764 0.04225 0 0 0 0 0 0 0 0 0 0 0 0\n",
    "10 0.0889 0.0889 0.0 18.7006554037 0.03635 0 0 0 0 0 0 0 0 0 0 0 0\n",
    "11 0.1001 0.1001 0.0 19.0388242428 0.03515 0 0 0 0 0 0 0 0 0 0 0 0\n",
    "12 0.1071 0.1071 0.0 19.1720185353 0.03355 0 0 0 0 0 0 0 0 0 0 0 0\n",
    "13 0.1195 0.1195 0.0 19.3711295152 0.02600 0 0 0 0 0 0 0 0 0 0 0 0\n",
    "14 0.1278 0.1278 0.0 19.5555026238 0.02635 0 0 0 0 0 0 0 0 0 0 0 0\n",
    "15 0.1396 0.1396 0.0 19.8185930766 0.02335 0 0 0 0 0 0 0 0 0 0 0 0\n",
    "16 0.1519 0.1519 0.0 19.9445025196 0.02370 0 0 0 0 0 0 0 0 0 0 0 0\n",
    "17 0.1635 0.1635 0.0 20.0642537602 0.02585 0 0 0 0 0 0 0 0 0 0 0 0\n",
    "18 0.1778 0.1778 0.0 20.3389008923 0.01965 0 0 0 0 0 0 0 0 0 0 0 0\n",
    "19 0.1906 0.1906 0.0 20.5047456137 0.02205 0 0 0 0 0 0 0 0 0 0 0 0\n",
    "20 0.2067 0.2067 0.0 20.6854007995 0.02140 0 0 0 0 0 0 0 0 0 0 0 0\n",
    "21 0.2216 0.2216 0.0 20.8610322507 0.02330 0 0 0 0 0 0 0 0 0 0 0 0\n",
    "22 0.2405 0.2405 0.0 21.0518440051 0.02220 0 0 0 0 0 0 0 0 0 0 0 0\n",
    "23 0.2558 0.2558 0.0 21.2037930719 0.02025 0 0 0 0 0 0 0 0 0 0 0 0\n",
    "24 0.2762 0.2762 0.0 21.3636137766 0.02210 0 0 0 0 0 0 0 0 0 0 0 0\n",
    "25 0.2972 0.2972 0.0 21.5790014334 0.02160 0 0 0 0 0 0 0 0 0 0 0 0\n",
    "26 0.3215 0.3215 0.0 21.8132772790 0.02140 0 0 0 0 0 0 0 0 0 0 0 0\n",
    "27 0.3453 0.3453 0.0 21.9665751024 0.02340 0 0 0 0 0 0 0 0 0 0 0 0\n",
    "28 0.3708 0.3708 0.0 22.1428940056 0.02145 0 0 0 0 0 0 0 0 0 0 0 0\n",
    "29 0.4049 0.4049 0.0 22.3799192408 0.03225 0 0 0 0 0 0 0 0 0 0 0 0\n",
    "30 0.4355 0.4355 0.0 22.5579272526 0.02540 0 0 0 0 0 0 0 0 0 0 0 0\n",
    "31 0.4738 0.4738 0.0 22.7973766420 0.02935 0 0 0 0 0 0 0 0 0 0 0 0\n",
    "32 0.5174 0.5174 0.0 23.0011594448 0.02685 0 0 0 0 0 0 0 0 0 0 0 0\n",
    "33 0.5742 0.5742 0.0 23.3004345026 0.02450 0 0 0 0 0 0 0 0 0 0 0 0\n",
    "34 0.6299 0.6299 0.0 23.5036280324 0.03100 0 0 0 0 0 0 0 0 0 0 0 0\n",
    "35 0.7240 0.7240 0.0 23.8666293039 0.02700 0 0 0 0 0 0 0 0 0 0 0 0\n",
    "36 0.8210 0.8210 0.0 24.2445519795 0.02480 0 0 0 0 0 0 0 0 0 0 0 0\n",
    "37 0.9511 0.9511 0.0 24.6411323707 0.02760 0 0 0 0 0 0 0 0 0 0 0 0\n",
    "38 1.2336 1.2336 0.0 25.3039940191 0.05635 0 0 0 0 0 0 0 0 0 0 0 0\n",
    "39 1.6123 1.6123 0.0 25.9259729107 0.0735 0 0 0 0 0 0 0 0 0 0 0 0\n",
    "```"
   ],
   "metadata": {
    "collapsed": false,
    "pycharm": {
     "name": "#%% md\n"
    }
   }
  },
  {
   "cell_type": "code",
   "execution_count": 12,
   "outputs": [
    {
     "name": "stdout",
     "output_type": "stream",
     "text": [
      "Example first data event: 0 0.014 0.014 0.0 14.57001926 0.0311\n",
      "name_array: 0.0, 1.0, 2.0, 3.0, ...\n",
      "zcmb_array: 0.014, 0.0194, 0.0264, 0.0329, ...\n",
      "zhel_array: 0.014, 0.0194, 0.0264, 0.0329, ...\n",
      "dz_array: 0.0, 0.0, 0.0, 0.0, ...\n",
      "mb_array: 14.57001926, 15.2279603507, 15.934102317, 16.4217829558, ...\n",
      "mbz_array: 0.0311, 0.02645, 0.0231, 0.0235, ...\n"
     ]
    }
   ],
   "source": [
    "import numpy as np\n",
    "\n",
    "with open('./Binned_data/lcparam_DS17f.txt', 'r') as f:\n",
    "    data = f.readlines()  # a list of the lines in the file\n",
    "    data = data[1:]  # ignore the first line in the file which is just column titles\n",
    "    data = [' '.join(i.split()[:6]) for i in data]  # remove unused data columns\n",
    "name_array = np.array([float(i.split()[0]) for i in data])  # I don't think we need to use this\n",
    "\n",
    "# Define arrays for each parameter from the data variable\n",
    "zcmb_array = np.array([float(i.split()[1]) for i in data])\n",
    "zhel_array = np.array([float(i.split()[2]) for i in data])\n",
    "dz_array = np.array([float(i.split()[3]) for i in data])  # these are all zero\n",
    "mb_array = np.array([float(i.split()[4]) for i in data])\n",
    "mbz_array = np.array([float(i.split()[5]) for i in data])\n",
    "\n",
    "# Display samples of the data and defined variables\n",
    "print(f\"Example first data event: {data[0]}\")\n",
    "print(f\"name_array: {', '.join(list(map(str, name_array[:4])))}, ...\")\n",
    "print(f\"zcmb_array: {', '.join(list(map(str, zcmb_array[:4])))}, ...\")\n",
    "print(f\"zhel_array: {', '.join(list(map(str, zhel_array[:4])))}, ...\")\n",
    "print(f\"dz_array: {', '.join(list(map(str, dz_array[:4])))}, ...\")\n",
    "print(f\"mb_array: {', '.join(list(map(str, mb_array[:4])))}, ...\")\n",
    "print(f\"mbz_array: {', '.join(list(map(str, mbz_array[:4])))}, ...\")"
   ],
   "metadata": {
    "collapsed": false,
    "pycharm": {
     "name": "#%%\n"
    }
   }
  },
  {
   "cell_type": "code",
   "execution_count": 22,
   "outputs": [
    {
     "name": "stdout",
     "output_type": "stream",
     "text": [
      "numpy polyfit fit values: m: 2.412799806478028, b: 24.58627090739993\n",
      "Bad slope estimate: 2.392560702405931\n"
     ]
    },
    {
     "data": {
      "text/plain": "<Figure size 648x432 with 1 Axes>",
      "image/png": "[encoded data removed]"
     },
     "metadata": {
      "needs_background": "light"
     },
     "output_type": "display_data"
    }
   ],
   "source": [
    "from matplotlib import pyplot as plt\n",
    "\n",
    "# Try plotting log(zcmb_array) vs mb_array\n",
    "fig, ax = plt.subplots(figsize = (9,6))\n",
    "ax.scatter(zcmb_array, mb_array)\n",
    "ax.set_xscale('log')  # set x-axis to log scale\n",
    "\n",
    "ax.set_xlabel(\"Redshift (z)\")\n",
    "ax.set_ylabel(\"Distance Modulus (mag)\")\n",
    "\n",
    "# Elementary fit just for our own information during development\n",
    "zcmb_log = np.log(zcmb_array)\n",
    "fit_values = np.polyfit(zcmb_log, mb_array, 1)\n",
    "print(f\"numpy polyfit fit values: m: {fit_values[0]}, b: {fit_values[1]}\")  # array with two values: [slope, y-intercept]\n",
    "print(f\"Bad slope estimate: {(mb_array[-1] - mb_array[0]) / (zcmb_log[-1] - zcmb_log[0])}\")\n",
    "\n",
    "\n",
    "# Idk what I was trying to do here, I was trying to plot the fit onto the same graph\n",
    "# # y = m*log(x) + b --> x = e^(y-b)/m\n",
    "# I guess I need to read about how semilog graphs work\n",
    "# fit_y = np.linspace(0, 2, 50)\n",
    "# fit_x = np.exp((fit_y-fit_values[1])/fit_values[0])\n",
    "# fit_x = np.log(fit_x)\n",
    "# fit_x = np.linspace(0, 2, 50)\n",
    "# fit_y = fit_values[0] * fit_x + fit_values[1]\n",
    "# ax.plot(fit_x, fit_y)"
   ],
   "metadata": {
    "collapsed": false,
    "pycharm": {
     "name": "#%%\n"
    }
   }
  },
  {
   "cell_type": "code",
   "execution_count": 13,
   "outputs": [],
   "source": [],
   "metadata": {
    "collapsed": false,
    "pycharm": {
     "name": "#%%\n"
    }
   }
  }
 ],
 "metadata": {
  "kernelspec": {
   "display_name": "Python 3",
   "language": "python",
   "name": "python3"
  },
  "language_info": {
   "codemirror_mode": {
    "name": "ipython",
    "version": 2
   },
   "file_extension": ".py",
   "mimetype": "text/x-python",
   "name": "python",
   "nbconvert_exporter": "python",
   "pygments_lexer": "ipython2",
   "version": "2.7.6"
  }
 },
 "nbformat": 4,
 "nbformat_minor": 0
}