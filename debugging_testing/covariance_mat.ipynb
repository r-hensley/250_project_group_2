{
 "cells": [
  {
   "cell_type": "markdown",
   "metadata": {
    "pycharm": {
     "name": "#%% md\n"
    }
   },
   "source": [
    "This is a notebook to test construction a covariance matrix from equation 6 in the paper. I will use the data files provided."
   ]
  },
  {
   "cell_type": "code",
   "execution_count": 20,
   "metadata": {
    "pycharm": {
     "name": "#%%\n"
    }
   },
   "outputs": [
    {
     "name": "stdout",
     "output_type": "stream",
     "text": [
      "40\n",
      "[[0.0311  0.      0.      ... 0.      0.      0.     ]\n",
      " [0.      0.02645 0.      ... 0.      0.      0.     ]\n",
      " [0.      0.      0.0231  ... 0.      0.      0.     ]\n",
      " ...\n",
      " [0.      0.      0.      ... 0.0276  0.      0.     ]\n",
      " [0.      0.      0.      ... 0.      0.05635 0.     ]\n",
      " [0.      0.      0.      ... 0.      0.      0.0735 ]]\n"
     ]
    }
   ],
   "source": [
    "import os\n",
    "import numpy as np\n",
    "\n",
    "######################################################\n",
    "#  Setting up plots for Retina\n",
    "######################################################\n",
    "\n",
    "%config InlineBackend.figure_format = 'retina'\n",
    "font = {'size'   : 16, 'family':'STIXGeneral'}\n",
    "axislabelfontsize='large'\n",
    "matplotlib.rc('font', **font)\n",
    "matplotlib.mathtext.rcParams['legend.fontsize']='medium'\n",
    "plt.rcParams[\"figure.figsize\"] = [8.0,6.0]\n",
    "\n",
    "#########################################\n",
    "# Setting up paths to data files\n",
    "#########################################\n",
    "\n",
    "basedir = os.path.dirname(os.path.abspath(''))\n",
    "datadir = os.path.join(basedir, 'data')\n",
    "\n",
    "binned_data_file = os.path.join(datadir, 'lcparam_DS17f.txt')\n",
    "binned_sys_file = os.path.join(datadir, 'sys_DS17f.txt')\n",
    "\n",
    "#########################################\n",
    "# Loading data\n",
    "#########################################\n",
    "\n",
    "binned_data = np.genfromtxt(binned_data_file, usecols=(1,4,5))\n",
    "zcmb = binned_data[:,0]\n",
    "mb = binned_data[:, 1]\n",
    "dmb = binned_data[:, 2]\n",
    "\n",
    "binned_sys = np.loadtxt(binned_sys_file)\n",
    "n = int(binned_sys[0])\n",
    "print(n)\n",
    "\n",
    "cov_sys = binned_sys[1:].reshape((n,n))\n",
    "cov_stat = np.diag(dmb)"
   ]
  },
  {
   "cell_type": "markdown",
   "metadata": {
    "pycharm": {
     "name": "#%% md\n"
    }
   },
   "source": [
    "The covariance matrix should be symmetric, so we can check that as a sanity check that we have read it in correctly. "
   ]
  },
  {
   "cell_type": "code",
   "execution_count": 26,
   "metadata": {
    "pycharm": {
     "name": "#%%\n"
    }
   },
   "outputs": [],
   "source": [
    "assert(np.sum(cov_sys - cov_sys.T)==0)"
   ]
  },
  {
   "cell_type": "code",
   "execution_count": 27,
   "metadata": {
    "pycharm": {
     "name": "#%%\n"
    }
   },
   "outputs": [
    {
     "data": {
      "text/plain": [
       "<matplotlib.image.AxesImage at 0x1320977c0>"
      ]
     },
     "execution_count": 27,
     "metadata": {},
     "output_type": "execute_result"
    },
    {
     "data": {
      "image/png": "[encoded data removed]",
      "text/plain": [
       "<Figure size 576x576 with 1 Axes>"
      ]
     },
     "metadata": {
      "needs_background": "light"
     },
     "output_type": "display_data"
    }
   ],
   "source": [
    "import matplotlib.pyplot as plt\n",
    "\n",
    "fig,ax=plt.subplots(figsize=(8,8))\n",
    "\n",
    "ax.imshow(cov_sys)"
   ]
  },
  {
   "cell_type": "code",
   "execution_count": null,
   "metadata": {
    "pycharm": {
     "name": "#%%\n"
    }
   },
   "outputs": [],
   "source": []
  }
 ],
 "metadata": {
  "interpreter": {
   "hash": "e0c5b978c6ba067c906c4fe26fe727be8743402b355b3471fd6e87476592d160"
  },
  "kernelspec": {
   "display_name": "Python 3.9.9 ('classy-forge')",
   "language": "python",
   "name": "python3"
  },
  "language_info": {
   "codemirror_mode": {
    "name": "ipython",
    "version": 3
   },
   "file_extension": ".py",
   "mimetype": "text/x-python",
   "name": "python",
   "nbconvert_exporter": "python",
   "pygments_lexer": "ipython3",
   "version": "3.9.9"
  },
  "orig_nbformat": 4
 },
 "nbformat": 4,
 "nbformat_minor": 2
}