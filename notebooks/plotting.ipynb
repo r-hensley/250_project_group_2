{
 "cells": [
  {
   "cell_type": "code",
   "execution_count": 74,
   "outputs": [
    {
     "name": "stderr",
     "output_type": "stream",
     "text": [
      "..\n",
      "----------------------------------------------------------------------\n",
      "Ran 2 tests in 0.391s\n",
      "\n",
      "OK\n"
     ]
    }
   ],
   "source": [
    "import unittest\n",
    "\n",
    "if __name__ == \"__main__\":\n",
    "    loader = unittest.TestLoader()\n",
    "    start_dir = \"../tests\"\n",
    "    suite = loader.discover(start_dir)\n",
    "    runner = unittest.TextTestRunner()\n",
    "    runner.run(suite)"
   ],
   "metadata": {
    "collapsed": false,
    "pycharm": {
     "name": "#%%\n"
    }
   }
  },
  {
   "cell_type": "code",
   "execution_count": null,
   "outputs": [],
   "source": [
    "import os\n",
    "import numpy as np\n",
    "import matplotlib.pyplot as plt\n",
    "import matplotlib\n",
    "from typing import Union\n",
    "from getdist import MCSamples, plots\n",
    "basedir = os.path.dirname(os.path.abspath(''))\n",
    "sourcedir = os.path.join(basedir, 'source')\n",
    "import sys\n",
    "sys.path.insert(0, sourcedir)\n",
    "from source.mcmc import MCMC\n",
    "\n",
    "%config InlineBackend.figure_format = 'retina'\n",
    "font = {'size'   : 16, 'family':'STIXGeneral'}\n",
    "axislabelfontsize='large'\n",
    "matplotlib.rc('font', **font)\n",
    "matplotlib.mathtext.rcParams['legend.fontsize']='medium'\n",
    "plt.rcParams[\"figure.figsize\"] = [8.0,6.0]\n",
    "\n",
    "chains = []  # will contain the main two chains made in this file\n",
    "# one with systematics, one without systematics\n",
    "\n",
    "default_chain_length = 4000\n",
    "\n",
    "#################################################\n",
    "# Function defs\n",
    "#################################################\n",
    "\n",
    "names = [\"$\\Omega_m$\", \"$\\Omega_{\\Lambda}$\", \"$H_0$\", \"$M$\" ]\n",
    "\n",
    "def make_trace_plot(_chains, labels=names, ylims=None):\n",
    "    if ylims is None:\n",
    "        ylims = [[0, 1], [0, 1], [50, 100], [-25, -15]]\n",
    "    fig, ax = plt.subplots(4,1, figsize=(8, 10))\n",
    "    if type(_chains) != list:\n",
    "        _chains = [_chains]\n",
    "    for chain in _chains:\n",
    "        for i in np.arange(4):\n",
    "            ax[i].plot(chain[:,i])\n",
    "            ax[i].set_ylim(ylims[i])\n",
    "            ax[i].set_ylabel(labels[i], fontsize=14)\n",
    "    return fig,ax\n",
    "\n",
    "\n",
    "\n",
    "#################################################\n",
    "# Directory setup\n",
    "#################################################\n",
    "\n",
    "datadir = os.path.join(basedir, 'data')\n",
    "binned_data_file = os.path.join(datadir, 'lcparam_DS17f.txt')\n",
    "binned_sys_file = os.path.join(datadir, 'sys_DS17f.txt')"
   ],
   "metadata": {
    "collapsed": false,
    "pycharm": {
     "name": "#%%\n"
    }
   }
  },
  {
   "cell_type": "markdown",
   "source": [
    "# With Systematics\n",
    "\n",
    "## Initial chain to estimate generating function covariance\n",
    "\n",
    "Below we run a shorter chain to get a rough estimate of the covariance between parameters. This will then be used to run a longer chain for actual parameter estimates."
   ],
   "metadata": {
    "collapsed": false,
    "pycharm": {
     "name": "#%% md\n"
    }
   }
  },
  {
   "cell_type": "code",
   "execution_count": null,
   "outputs": [],
   "source": [
    "def make_chain(systematics_file, cov, M_gaussian_prior, chain_length):\n",
    "    start = [np.random.uniform(0, 1), np.random.uniform(0,1), np.random.uniform(50,100), np.random.uniform(-25, -15)]\n",
    "    if M_gaussian_prior:\n",
    "        start[3] = -19.15\n",
    "\n",
    "    markov_chain = MCMC(initial_state=start,\n",
    "                        data_file=binned_data_file,\n",
    "                        systematics_file=systematics_file,\n",
    "                        g_cov=cov,\n",
    "                        M_gaussian_prior=M_gaussian_prior)\n",
    "\n",
    "    markov_chain.make_chain(chain_length)\n",
    "\n",
    "    # test values\n",
    "    h0_average = np.average(markov_chain.H0[1000:])\n",
    "    Omega_m_average = np.average(markov_chain.Omega_m[1000:])\n",
    "    Omega_L_average = np.average(markov_chain.Omega_L[1000:])\n",
    "    M_average = np.average(markov_chain.M[1000:])\n",
    "    assert 50 < h0_average < 99, f\"The average value for H0 ({h0_average}) has fallen out of the expected range\"\n",
    "    assert 0.01 < Omega_m_average < 0.5, f\"The average value for Omega_m ({Omega_m_average}) has fallen out of the expected range\"\n",
    "    assert 0.5 < Omega_L_average < 0.99, f\"The average value for Omega_L ({Omega_L_average}) has fallen out of the expected range\"\n",
    "    assert -22 < M_average < -18, f\"The average value for M ({M_average}) has fallen out of the expected range\"\n",
    "    print(f\"{h0_average=}, {Omega_m_average=}, {Omega_L_average=}, {M_average=}\")\n",
    "\n",
    "    return markov_chain"
   ],
   "metadata": {
    "collapsed": false,
    "pycharm": {
     "name": "#%%\n"
    }
   }
  },
  {
   "cell_type": "code",
   "execution_count": null,
   "outputs": [],
   "source": [
    "systematics_markov_chain = make_chain(binned_sys_file,\n",
    "                                      cov=np.diag([.01, .01, .1, .01]),\n",
    "                                      M_gaussian_prior=False,\n",
    "                                      chain_length=default_chain_length)"
   ],
   "metadata": {
    "collapsed": false,
    "pycharm": {
     "name": "#%%\n"
    }
   }
  },
  {
   "cell_type": "code",
   "execution_count": null,
   "outputs": [],
   "source": [
    "def plot_chain(markov_chain: Union[MCMC, np.ndarray]) -> None:\n",
    "    \"\"\"\n",
    "    Makes a trace plot using make_trace_plot() function above.\n",
    "    :param markov_chain: Chain object to make a\n",
    "    \"\"\"\n",
    "    if type(markov_chain) == MCMC:\n",
    "        markov_chain = markov_chain.chain\n",
    "\n",
    "    _, _ = make_trace_plot(markov_chain)\n",
    "    plt.show()\n",
    "\n",
    "plot_chain(systematics_markov_chain)"
   ],
   "metadata": {
    "collapsed": false,
    "pycharm": {
     "name": "#%%\n"
    }
   }
  },
  {
   "cell_type": "markdown",
   "source": [
    "Now we use the above chains to estimate the parameter covariance, which will be used to refine the generating function on the next run."
   ],
   "metadata": {
    "collapsed": false,
    "pycharm": {
     "name": "#%% md\n"
    }
   }
  },
  {
   "cell_type": "code",
   "execution_count": null,
   "outputs": [],
   "source": [
    "def estimate_covariance(markov_chain):\n",
    "    burn_in = 500\n",
    "    cov = np.cov(markov_chain.chain[burn_in:, :].T)\n",
    "    alpha= .1\n",
    "    cov *= alpha\n",
    "    print(cov)\n",
    "    return cov\n",
    "\n",
    "systematics_better_cov = estimate_covariance(systematics_markov_chain)"
   ],
   "metadata": {
    "collapsed": false,
    "pycharm": {
     "name": "#%%\n"
    }
   }
  },
  {
   "cell_type": "code",
   "execution_count": null,
   "outputs": [],
   "source": [
    "# def make_chain_with_better_covariance(cov):\n",
    "#     start = [np.random.uniform(0, 1), np.random.uniform(0,1), np.random.uniform(50,100), np.random.uniform(-25, -15)]\n",
    "#\n",
    "#     markov_chain = MCMC(initial_state=start,\n",
    "#                         data_file=binned_data_file,\n",
    "#                         systematics_file=binned_sys_file,\n",
    "#                         g_cov=cov)\n",
    "#\n",
    "#     markov_chain.make_chain(50000)\n",
    "#     return markov_chain"
   ],
   "metadata": {
    "collapsed": false,
    "pycharm": {
     "name": "#%%\n"
    }
   }
  },
  {
   "cell_type": "code",
   "execution_count": null,
   "outputs": [],
   "source": [
    "# def plot_systematics_better_cov(markov_chain):\n",
    "#     chains = []\n",
    "#     chains.append(markov_chain.chain)\n",
    "#     fig,ax= make_trace_plot(chains)\n",
    "#     plt.show()\n",
    "\n",
    "with_systematics_better_cov_chain = make_chain(binned_sys_file,\n",
    "                                               systematics_better_cov,\n",
    "                                               M_gaussian_prior=False,\n",
    "                                               chain_length=default_chain_length*5)\n",
    "\n",
    "chains.append(with_systematics_better_cov_chain)\n",
    "plot_chain(with_systematics_better_cov_chain)"
   ],
   "metadata": {
    "collapsed": false,
    "pycharm": {
     "name": "#%%\n"
    }
   }
  },
  {
   "cell_type": "markdown",
   "source": [
    "# Without Systematics"
   ],
   "metadata": {
    "collapsed": false,
    "pycharm": {
     "name": "#%% md\n"
    }
   }
  },
  {
   "cell_type": "code",
   "execution_count": null,
   "outputs": [],
   "source": [
    "# start = [np.random.uniform(0, 1), np.random.uniform(0,1), np.random.uniform(50,100), np.random.uniform(-25, -15)]\n",
    "# g_cov = np.diag([.01, .01, .1, .01])\n",
    "#\n",
    "# markov_chain = MCMC(initial_state=start,\n",
    "#                     data_file=binned_data_file,\n",
    "#                     systematics_file=None,\n",
    "#                     g_cov=g_cov)\n",
    "#\n",
    "# markov_chain.make_chain(10000)\n",
    "\n",
    "no_systematics_chain = make_chain(systematics_file=None,\n",
    "                                  cov=np.diag([.01, .01, .1, .01]),\n",
    "                                  M_gaussian_prior=False,\n",
    "                                  chain_length=default_chain_length)\n",
    "\n",
    "no_systematics_better_cov = estimate_covariance(no_systematics_chain)\n",
    "# burn_in = 500\n",
    "# cov = np.cov(markov_chain.chain[burn_in:, :].T)\n",
    "# alpha= .1\n",
    "# cov*=alpha\n",
    "# print(cov)\n",
    "\n",
    "# start = [np.random.uniform(0, 1), np.random.uniform(0,1), np.random.uniform(50,100), np.random.uniform(-25, -15)]\n",
    "#\n",
    "# markov_chain = MCMC(initial_state=start,\n",
    "#                     data_file=binned_data_file,\n",
    "#                     systematics_file=None,\n",
    "#                     g_cov=cov)\n",
    "#\n",
    "# markov_chain.make_chain(50000)\n",
    "\n",
    "no_systematics_better_cov_chain = make_chain(systematics_file=None,\n",
    "                                             cov=no_systematics_better_cov,\n",
    "                                             M_gaussian_prior=False,\n",
    "                                             chain_length=default_chain_length*5)\n",
    "\n",
    "chains.append(no_systematics_better_cov_chain)\n",
    "plot_chain(no_systematics_better_cov_chain)"
   ],
   "metadata": {
    "collapsed": false,
    "pycharm": {
     "name": "#%%\n"
    }
   }
  },
  {
   "cell_type": "code",
   "execution_count": null,
   "outputs": [],
   "source": [
    "def make_omega_contour_plot():\n",
    "    burn_in = 1000\n",
    "    p_names = ['Om', 'Ol', \"H0\", \"M\"]\n",
    "    p_labels = ['\\Omega_m', '\\Omega_\\Lambda', \"H_0\", \"M\"]\n",
    "\n",
    "    sys_samples = MCSamples(samples=with_systematics_better_cov_chain.chain,\n",
    "                            names = p_names,\n",
    "                            labels = p_labels,\n",
    "                            ignore_rows=burn_in)\n",
    "\n",
    "    no_sys_samples = MCSamples(samples=no_systematics_better_cov_chain.chain,\n",
    "                               names = p_names,\n",
    "                               labels = p_labels,\n",
    "                               ignore_rows=burn_in)\n",
    "\n",
    "    sys_samples.updateSettings({'contours': [0.68, 0.95]})\n",
    "    no_sys_samples.updateSettings({'contours': [0.68, 0.95]})\n",
    "    om_grid = np.linspace(0,1,100)\n",
    "    g = plots.get_single_plotter(width_inch=6, ratio=1. / 1)\n",
    "    g.get_axes().plot(om_grid, -om_grid+1, linestyle=\"dashed\", color=\"k\", alpha=0.5)\n",
    "    g.get_axes().text(0.65, 0.25, 'Flat Universe', rotation=-33, alpha=0.5, transform=g.get_axes().transAxes)\n",
    "    g.plot_2d([sys_samples, no_sys_samples], p_names[0], p_names[1], filled=True, lims=[0, 0.8, 0, 1.3])\n",
    "\n",
    "\n",
    "    g.add_legend(['With systematics', 'Without systematics'], colored_text=True)\n",
    "    return g\n",
    "\n",
    "omega_contour_plot = make_omega_contour_plot()"
   ],
   "metadata": {
    "collapsed": false,
    "pycharm": {
     "name": "#%%\n"
    }
   }
  },
  {
   "cell_type": "code",
   "execution_count": null,
   "outputs": [],
   "source": [
    "def save_omega_contour_plot(graph):\n",
    "    resultsdir = os.path.join(basedir, 'results')\n",
    "    out_name = os.path.join(resultsdir, \"omega_contour_plot.pdf\")\n",
    "\n",
    "    save_plot = False\n",
    "    if save_plot:\n",
    "        graph.export(fname=out_name)\n",
    "\n",
    "save_omega_contour_plot(omega_contour_plot)"
   ],
   "metadata": {
    "collapsed": false,
    "pycharm": {
     "name": "#%%\n"
    }
   }
  },
  {
   "cell_type": "markdown",
   "source": [
    "# Constraints on $H_0$\n"
   ],
   "metadata": {
    "collapsed": false,
    "pycharm": {
     "name": "#%% md\n"
    }
   }
  },
  {
   "cell_type": "code",
   "execution_count": null,
   "outputs": [],
   "source": [
    "def make_h0_constraints_chain():\n",
    "    chain = make_chain(systematics_file=binned_sys_file,\n",
    "                       cov=np.diag([.01, .01, .1, .01]),\n",
    "                       M_gaussian_prior=True,\n",
    "                       chain_length=default_chain_length)\n",
    "\n",
    "    better_cov = estimate_covariance(chain)\n",
    "\n",
    "    chain = make_chain(systematics_file=binned_sys_file,\n",
    "                       cov=better_cov,\n",
    "                       M_gaussian_prior=True,\n",
    "                       chain_length=default_chain_length*5)\n",
    "\n",
    "    return chain\n",
    "\n",
    "    #start = [np.random.uniform(0, 1), np.random.uniform(0,1), np.random.uniform(50,100), np.random.uniform(-25, -15)]\n",
    "    # start = [np.random.uniform(0, 1), np.random.uniform(0,1), np.random.uniform(50,100), -19.15]\n",
    "    #\n",
    "    # g_cov = np.diag([.01, .01, .1, .01])\n",
    "    #\n",
    "    # markov_chain = MCMC(initial_state=start,\n",
    "    #                     data_file=binned_data_file,\n",
    "    #                     systematics_file=binned_sys_file,\n",
    "    #                     g_cov=g_cov,\n",
    "    #                     M_gaussian_prior = True)\n",
    "    #\n",
    "    # markov_chain.make_chain(10000)\n",
    "\n",
    "    # burn_in = 500\n",
    "    # cov = np.cov(markov_chain.chain[burn_in:, :].T)\n",
    "    # alpha= 0.5\n",
    "    # cov*=alpha\n",
    "    # print(cov)\n",
    "\n",
    "    #start = [np.random.uniform(0, 1), np.random.uniform(0,1), np.random.uniform(50,100), -19.15]\n",
    "    # start = [np.random.uniform(0, 1), np.random.uniform(0,1), np.random.uniform(50,100), -19.15]\n",
    "    #\n",
    "    #\n",
    "    # markov_chain = MCMC(initial_state=start,\n",
    "    #                     data_file=binned_data_file,\n",
    "    #                     systematics_file=binned_sys_file,\n",
    "    #                     g_cov=cov,\n",
    "    #                     M_gaussian_prior = True)\n",
    "    #\n",
    "    # markov_chain.make_chain(50000)\n",
    "\n",
    "h0_chain = make_h0_constraints_chain()\n",
    "plot_chain(h0_chain)"
   ],
   "metadata": {
    "collapsed": false,
    "pycharm": {
     "name": "#%%\n"
    }
   }
  },
  {
   "cell_type": "code",
   "execution_count": null,
   "outputs": [],
   "source": [
    "def plot_h0_constraint(markov_chain):\n",
    "    burn_in = 1000\n",
    "    p_names = ['Om', 'Ol', \"H0\", \"M\"]\n",
    "    p_labels = ['\\Omega_m', '\\Omega_\\Lambda', \"H_0\", \"M\"]\n",
    "    H0_samples = MCSamples(samples=markov_chain.chain,\n",
    "                           names = p_names,\n",
    "                           labels = p_labels,\n",
    "                           ignore_rows=burn_in)\n",
    "\n",
    "    g = plots.get_single_plotter(width_inch=6, ratio=1. / 1.6)\n",
    "    g.plot_1d(H0_samples, p_names[2])\n",
    "\n",
    "plot_h0_constraint(h0_chain)"
   ],
   "metadata": {
    "collapsed": false,
    "pycharm": {
     "name": "#%%\n"
    }
   }
  },
  {
   "cell_type": "code",
   "execution_count": null,
   "metadata": {
    "pycharm": {
     "name": "#%%\n"
    }
   },
   "outputs": [],
   "source": []
  }
 ],
 "metadata": {
  "interpreter": {
   "hash": "e0c5b978c6ba067c906c4fe26fe727be8743402b355b3471fd6e87476592d160"
  },
  "kernelspec": {
   "display_name": "Python 3.9.9 ('classy-forge')",
   "language": "python",
   "name": "python3"
  },
  "language_info": {
   "codemirror_mode": {
    "name": "ipython",
    "version": 3
   },
   "file_extension": ".py",
   "mimetype": "text/x-python",
   "name": "python",
   "nbconvert_exporter": "python",
   "pygments_lexer": "ipython3",
   "version": "3.9.9"
  },
  "orig_nbformat": 4
 },
 "nbformat": 4,
 "nbformat_minor": 2
}