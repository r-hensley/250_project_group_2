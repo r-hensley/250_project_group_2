{
 "cells": [
  {
   "cell_type": "code",
   "execution_count": 4,
   "metadata": {},
   "outputs": [
    {
     "name": "stdout",
     "output_type": "stream",
     "text": [
      "[6.11391352e-05 6.11391352e-05 6.11391352e-05 6.11391352e-05\n",
      " 6.11391351e-05 6.11391353e-05 6.11391352e-05 6.11391352e-05\n",
      " 6.11391352e-05 6.11391352e-05 6.11391352e-05 6.11391352e-05\n",
      " 6.11391352e-05 6.11391352e-05 6.11391352e-05 6.11391352e-05\n",
      " 6.11391352e-05 6.11391352e-05 6.11391352e-05 6.11391352e-05\n",
      " 6.11391353e-05 6.11391352e-05 6.11391352e-05 6.11391352e-05\n",
      " 6.11391352e-05 6.11391352e-05 6.11391352e-05 6.11391352e-05\n",
      " 6.11391352e-05 6.11391352e-05 6.11391352e-05 6.11391352e-05\n",
      " 6.11391352e-05 6.11391352e-05 6.11391352e-05 6.11391352e-05\n",
      " 6.11391352e-05 6.11391352e-05 6.11391352e-05 6.11391352e-05]\n"
     ]
    }
   ],
   "source": [
    "import os\n",
    "import matplotlib.pyplot as plt\n",
    "import matplotlib\n",
    "import numpy as np\n",
    "basedir = os.path.dirname(os.path.abspath(''))\n",
    "sourcedir = os.path.join(basedir, 'source')\n",
    "import sys\n",
    "sys.path.insert(0, sourcedir)\n",
    "from CosmoModel import CosmoModel\n",
    "import astropy.cosmology as cosmo\n",
    "import astropy.units as u\n",
    "\n",
    "datafile = os.path.join(basedir, \"data/lcparam_DS17f.txt\")\n",
    "\n",
    "binned_data = np.genfromtxt(datafile, usecols=(1, 4, 5))\n",
    "z = binned_data[:, 0]\n",
    "mb: np.ndarray = binned_data[:, 1]\n",
    "dmb: np.ndarray = binned_data[:, 2]\n",
    "\n",
    "Om=0.23\n",
    "Ol=0.77\n",
    "H0=68.5\n",
    "\n",
    "my_model = CosmoModel(Om, Ol, H0)\n",
    "\n",
    "astropy_model = cosmo.LambdaCDM(H0=H0*u.km/u.s/u.Mpc, Om0 = Om, Ode0=Ol)\n",
    "a_dmoduli = np.array(astropy_model.distmod(z))\n",
    "my_dmoduli = my_model.distmod(z)\n",
    "\n",
    "print(a_dmoduli-my_dmoduli)"
   ]
  },
  {
   "cell_type": "code",
   "execution_count": null,
   "metadata": {},
   "outputs": [],
   "source": []
  }
 ],
 "metadata": {
  "interpreter": {
   "hash": "e0c5b978c6ba067c906c4fe26fe727be8743402b355b3471fd6e87476592d160"
  },
  "kernelspec": {
   "display_name": "Python 3.9.9 ('classy-forge')",
   "language": "python",
   "name": "python3"
  },
  "language_info": {
   "codemirror_mode": {
    "name": "ipython",
    "version": 3
   },
   "file_extension": ".py",
   "mimetype": "text/x-python",
   "name": "python",
   "nbconvert_exporter": "python",
   "pygments_lexer": "ipython3",
   "version": "3.9.9"
  },
  "orig_nbformat": 4
 },
 "nbformat": 4,
 "nbformat_minor": 2
}
